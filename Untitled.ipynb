{
 "cells": [
  {
   "cell_type": "code",
   "execution_count": 5,
   "metadata": {},
   "outputs": [],
   "source": [
    "import cv2\n",
    "import numpy as np\n",
    "import os \n",
    "from random import shuffle\n",
    "from tqdm import tqdm\n"
   ]
  },
  {
   "cell_type": "code",
   "execution_count": 6,
   "metadata": {},
   "outputs": [],
   "source": [
    "TRAIN_DIR = 'train'\n",
    "TEST_DIR = 'test'\n",
    "IMG_SIZE = 100\n",
    "LR = 1e-3\n",
    "MODEL_NAME = 'Classified_Medicine-{}-{}.model'.format(LR,'6conv')"
   ]
  },
  {
   "cell_type": "code",
   "execution_count": 8,
   "metadata": {},
   "outputs": [],
   "source": [
    "def label_img(img):\n",
    "    word_label = img.split('.')[-3]\n",
    "    if word_label == 'hydrox':\n",
    "        return [1,0,0,0]\n",
    "    elif word_label == 'lorazepam':\n",
    "        return [0,1,0,0]\n",
    "    elif word_label == 'ponstan':\n",
    "        return [0,0,1,0]\n",
    "    elif word_label == 'tylenol':\n",
    "        return [0,0,0,1]"
   ]
  },
  {
   "cell_type": "code",
   "execution_count": 9,
   "metadata": {},
   "outputs": [],
   "source": [
    "def create_train_data():\n",
    "    training_data = []\n",
    "    for img in tqdm(os.listdir(TRAIN_DIR)):\n",
    "        label = label_img(img)\n",
    "        path = os.path.join(TRAIN_DIR,img)\n",
    "        img = cv2.resize(cv2.imread(path, cv2.IMREAD_GRAYSCALE), (IMG_SIZE, IMG_SIZE))\n",
    "        training_data.append([np.array(img) , np.array(label)])\n",
    "    shuffle(training_data)\n",
    "    #np.save('train_data.npy', training_data)\n",
    "    return training_data"
   ]
  },
  {
   "cell_type": "code",
   "execution_count": 10,
   "metadata": {},
   "outputs": [
    {
     "name": "stderr",
     "output_type": "stream",
     "text": [
      "100%|██████████| 1012/1012 [02:09<00:00,  7.12it/s]\n"
     ]
    }
   ],
   "source": [
    "train_data = create_train_data()"
   ]
  },
  {
   "cell_type": "code",
   "execution_count": 11,
   "metadata": {},
   "outputs": [],
   "source": [
    "from __future__ import print_function\n",
    "import keras\n",
    "from keras.datasets import cifar10\n",
    "from keras.preprocessing.image import ImageDataGenerator\n",
    "from keras.models import Sequential\n",
    "from keras.layers import Dense, Dropout, Activation, Flatten\n",
    "from keras.layers import Conv2D, MaxPooling2D\n",
    "\n",
    "import matplotlib.pyplot as plt\n",
    "%matplotlib inline"
   ]
  },
  {
   "cell_type": "code",
   "execution_count": 13,
   "metadata": {},
   "outputs": [
    {
     "name": "stdout",
     "output_type": "stream",
     "text": [
      "_________________________________________________________________\n",
      "Layer (type)                 Output Shape              Param #   \n",
      "=================================================================\n",
      "conv2d_3 (Conv2D)            (None, 50, 50, 32)        832       \n",
      "_________________________________________________________________\n",
      "activation_4 (Activation)    (None, 50, 50, 32)        0         \n",
      "_________________________________________________________________\n",
      "conv2d_4 (Conv2D)            (None, 23, 23, 32)        25632     \n",
      "_________________________________________________________________\n",
      "activation_5 (Activation)    (None, 23, 23, 32)        0         \n",
      "_________________________________________________________________\n",
      "max_pooling2d_2 (MaxPooling2 (None, 11, 11, 32)        0         \n",
      "_________________________________________________________________\n",
      "dropout_3 (Dropout)          (None, 11, 11, 32)        0         \n",
      "_________________________________________________________________\n",
      "flatten_2 (Flatten)          (None, 3872)              0         \n",
      "_________________________________________________________________\n",
      "dense_2 (Dense)              (None, 512)               1982976   \n",
      "_________________________________________________________________\n",
      "activation_6 (Activation)    (None, 512)               0         \n",
      "_________________________________________________________________\n",
      "dropout_4 (Dropout)          (None, 512)               0         \n",
      "_________________________________________________________________\n",
      "dense_3 (Dense)              (None, 4)                 2052      \n",
      "_________________________________________________________________\n",
      "activation_7 (Activation)    (None, 4)                 0         \n",
      "=================================================================\n",
      "Total params: 2,011,492\n",
      "Trainable params: 2,011,492\n",
      "Non-trainable params: 0\n",
      "_________________________________________________________________\n"
     ]
    }
   ],
   "source": [
    "model_1 = Sequential()\n",
    "\n",
    "\n",
    "## 5x5 convolution with 2x2 stride and 32 filters\n",
    "model_1.add(Conv2D(32, (5, 5), strides = (2,2), padding='same',\n",
    "                 input_shape=( IMG_SIZE, IMG_SIZE, 1)))\n",
    "model_1.add(Activation('relu'))\n",
    "\n",
    "## Another 5x5 convolution with 2x2 stride and 32 filters\n",
    "model_1.add(Conv2D(32, (5, 5), strides = (2,2)))\n",
    "model_1.add(Activation('relu'))\n",
    "\n",
    "## 2x2 max pooling reduces to 3 x 3 x 32\n",
    "model_1.add(MaxPooling2D(pool_size=(2, 2)))\n",
    "model_1.add(Dropout(0.25))\n",
    "\n",
    "## Flatten turns 3x3x32 into 288x1\n",
    "model_1.add(Flatten())\n",
    "model_1.add(Dense(512))\n",
    "model_1.add(Activation('relu'))\n",
    "model_1.add(Dropout(0.5))\n",
    "model_1.add(Dense(4))\n",
    "model_1.add(Activation('softmax'))\n",
    "\n",
    "model_1.summary()"
   ]
  },
  {
   "cell_type": "code",
   "execution_count": 14,
   "metadata": {},
   "outputs": [],
   "source": [
    "train = train_data[:-200]\n",
    "test = train_data[-200:]"
   ]
  },
  {
   "cell_type": "code",
   "execution_count": 15,
   "metadata": {},
   "outputs": [],
   "source": [
    "X = np.array([i[0] for i in train]).reshape(-1,IMG_SIZE,IMG_SIZE,1)\n",
    "Y = [i[1] for i in train]\n",
    "\n",
    "test_x = np.array([i[0] for i in test]).reshape(-1,IMG_SIZE,IMG_SIZE,1)\n",
    "test_y = [i[1] for i in test]"
   ]
  },
  {
   "cell_type": "code",
   "execution_count": 17,
   "metadata": {},
   "outputs": [
    {
     "ename": "TypeError",
     "evalue": "Unrecognized keyword arguments: {'n_epoch': 10, 'validation_set': ({'input': array([[[[ 23],\n         [ 28],\n         [ 28],\n         ...,\n         [ 23],\n         [ 22],\n         [ 21]],\n\n        [[ 18],\n         [ 25],\n         [ 28],\n         ...,\n         [ 15],\n         [ 21],\n         [ 19]],\n\n        [[ 26],\n         [ 24],\n         [ 23],\n         ...,\n         [ 21],\n         [ 16],\n         [ 25]],\n\n        ...,\n\n        [[ 39],\n         [ 37],\n         [ 38],\n         ...,\n         [ 26],\n         [ 35],\n         [ 34]],\n\n        [[ 13],\n         [ 19],\n         [ 22],\n         ...,\n         [  8],\n         [ 13],\n         [  7]],\n\n        [[ 23],\n         [ 26],\n         [ 26],\n         ...,\n         [ 26],\n         [ 27],\n         [ 26]]],\n\n\n       [[[ 21],\n         [ 12],\n         [ 18],\n         ...,\n         [ 13],\n         [ 18],\n         [ 14]],\n\n        [[ 24],\n         [ 21],\n         [ 24],\n         ...,\n         [ 11],\n         [ 20],\n         [ 19]],\n\n        [[ 21],\n         [ 28],\n         [ 19],\n         ...,\n         [  4],\n         [  4],\n         [ 23]],\n\n        ...,\n\n        [[ 10],\n         [ 43],\n         [ 35],\n         ...,\n         [ 17],\n         [ 26],\n         [ 28]],\n\n        [[ 21],\n         [ 28],\n         [ 26],\n         ...,\n         [ 22],\n         [ 13],\n         [ 13]],\n\n        [[ 20],\n         [ 55],\n         [  7],\n         ...,\n         [ 10],\n         [ 10],\n         [ 22]]],\n\n\n       [[[ 76],\n         [ 43],\n         [ 85],\n         ...,\n         [ 26],\n         [ 32],\n         [ 19]],\n\n        [[ 66],\n         [ 49],\n         [ 72],\n         ...,\n         [ 32],\n         [ 31],\n         [ 15]],\n\n        [[ 89],\n         [ 60],\n         [ 65],\n         ...,\n         [ 23],\n         [ 30],\n         [ 21]],\n\n        ...,\n\n        [[ 38],\n         [102],\n         [ 69],\n         ...,\n         [ 26],\n         [ 15],\n         [ 27]],\n\n        [[ 33],\n         [ 45],\n         [ 51],\n         ...,\n         [ 21],\n         [ 18],\n         [ 26]],\n\n        [[ 54],\n         [ 26],\n         [ 39],\n         ...,\n         [ 33],\n         [ 29],\n         [ 15]]],\n\n\n       ...,\n\n\n       [[[ 22],\n         [  9],\n         [ 16],\n         ...,\n         [  7],\n         [ 10],\n         [  5]],\n\n        [[ 17],\n         [ 18],\n         [ 20],\n         ...,\n         [  6],\n         [ 13],\n         [  7]],\n\n        [[ 14],\n         [ 20],\n         [ 14],\n         ...,\n         [  5],\n         [  2],\n         [ 12]],\n\n        ...,\n\n        [[  9],\n         [ 39],\n         [ 27],\n         ...,\n         [ 16],\n         [ 15],\n         [ 20]],\n\n        [[ 19],\n         [ 24],\n         [ 18],\n         ...,\n         [ 19],\n         [ 11],\n         [ 12]],\n\n        [[ 10],\n         [ 41],\n         [ 13],\n         ...,\n         [  8],\n         [  7],\n         [ 17]]],\n\n\n       [[[ 17],\n         [ 30],\n         [ 20],\n         ...,\n         [ 26],\n         [ 22],\n         [ 19]],\n\n        [[ 13],\n         [ 13],\n         [ 14],\n         ...,\n         [ 10],\n         [ 23],\n         [ 17]],\n\n        [[ 21],\n         [ 22],\n         [ 23],\n         ...,\n         [ 15],\n         [ 17],\n         [ 24]],\n\n        ...,\n\n        [[ 34],\n         [ 40],\n         [ 27],\n         ...,\n         [ 24],\n         [ 38],\n         [ 35]],\n\n        [[  5],\n         [ 13],\n         [ 18],\n         ...,\n         [  9],\n         [  6],\n         [  3]],\n\n        [[ 19],\n         [ 23],\n         [ 28],\n         ...,\n         [ 20],\n         [ 20],\n         [ 20]]],\n\n\n       [[[ 15],\n         [ 10],\n         [ 12],\n         ...,\n         [ 20],\n         [ 15],\n         [ 13]],\n\n        [[ 26],\n         [ 24],\n         [ 30],\n         ...,\n         [ 17],\n         [ 24],\n         [ 14]],\n\n        [[ 48],\n         [ 49],\n         [ 40],\n         ...,\n         [ 10],\n         [ 28],\n         [ 22]],\n\n        ...,\n\n        [[ 56],\n         [ 51],\n         [ 37],\n         ...,\n         [ 27],\n         [ 22],\n         [ 12]],\n\n        [[ 39],\n         [ 30],\n         [ 45],\n         ...,\n         [ 17],\n         [ 14],\n         [ 18]],\n\n        [[ 57],\n         [ 33],\n         [ 31],\n         ...,\n         [ 24],\n         [ 15],\n         [ 18]]]], dtype=uint8)}, {'targets': [array([0, 1, 0, 0]), array([0, 1, 0, 0]), array([0, 0, 1, 0]), array([0, 0, 0, 1]), array([0, 0, 1, 0]), array([1, 0, 0, 0]), array([0, 0, 0, 1]), array([0, 1, 0, 0]), array([0, 1, 0, 0]), array([0, 1, 0, 0]), array([0, 0, 0, 1]), array([0, 0, 1, 0]), array([0, 0, 1, 0]), array([1, 0, 0, 0]), array([0, 1, 0, 0]), array([0, 0, 0, 1]), array([1, 0, 0, 0]), array([0, 0, 0, 1]), array([0, 1, 0, 0]), array([0, 0, 1, 0]), array([0, 0, 0, 1]), array([0, 1, 0, 0]), array([1, 0, 0, 0]), array([0, 0, 1, 0]), array([0, 0, 1, 0]), array([0, 1, 0, 0]), array([0, 1, 0, 0]), array([0, 1, 0, 0]), array([0, 0, 0, 1]), array([0, 1, 0, 0]), array([1, 0, 0, 0]), array([0, 0, 0, 1]), array([0, 0, 0, 1]), array([0, 0, 0, 1]), array([0, 0, 1, 0]), array([0, 0, 1, 0]), array([0, 1, 0, 0]), array([0, 0, 1, 0]), array([0, 1, 0, 0]), array([0, 0, 0, 1]), array([0, 1, 0, 0]), array([0, 1, 0, 0]), array([0, 0, 0, 1]), array([0, 0, 1, 0]), array([0, 0, 1, 0]), array([0, 1, 0, 0]), array([1, 0, 0, 0]), array([1, 0, 0, 0]), array([1, 0, 0, 0]), array([0, 0, 1, 0]), array([0, 1, 0, 0]), array([1, 0, 0, 0]), array([0, 0, 1, 0]), array([0, 1, 0, 0]), array([0, 0, 1, 0]), array([0, 0, 1, 0]), array([0, 0, 0, 1]), array([0, 0, 1, 0]), array([0, 1, 0, 0]), array([0, 0, 1, 0]), array([0, 0, 1, 0]), array([0, 0, 1, 0]), array([0, 0, 1, 0]), array([0, 1, 0, 0]), array([0, 1, 0, 0]), array([0, 0, 1, 0]), array([0, 1, 0, 0]), array([0, 0, 1, 0]), array([0, 0, 1, 0]), array([0, 0, 1, 0]), array([1, 0, 0, 0]), array([0, 0, 0, 1]), array([1, 0, 0, 0]), array([0, 0, 0, 1]), array([0, 1, 0, 0]), array([0, 1, 0, 0]), array([0, 0, 1, 0]), array([0, 1, 0, 0]), array([0, 1, 0, 0]), array([0, 0, 1, 0]), array([1, 0, 0, 0]), array([0, 0, 1, 0]), array([0, 0, 1, 0]), array([0, 0, 1, 0]), array([0, 1, 0, 0]), array([0, 0, 1, 0]), array([0, 0, 0, 1]), array([0, 0, 0, 1]), array([1, 0, 0, 0]), array([0, 0, 1, 0]), array([1, 0, 0, 0]), array([0, 0, 0, 1]), array([0, 0, 0, 1]), array([0, 1, 0, 0]), array([0, 1, 0, 0]), array([0, 1, 0, 0]), array([0, 1, 0, 0]), array([0, 0, 0, 1]), array([1, 0, 0, 0]), array([0, 1, 0, 0]), array([0, 1, 0, 0]), array([0, 1, 0, 0]), array([1, 0, 0, 0]), array([0, 0, 1, 0]), array([0, 1, 0, 0]), array([0, 1, 0, 0]), array([0, 1, 0, 0]), array([0, 0, 0, 1]), array([0, 1, 0, 0]), array([0, 1, 0, 0]), array([0, 0, 1, 0]), array([0, 0, 1, 0]), array([0, 0, 1, 0]), array([1, 0, 0, 0]), array([0, 0, 0, 1]), array([0, 0, 1, 0]), array([0, 0, 0, 1]), array([1, 0, 0, 0]), array([1, 0, 0, 0]), array([0, 0, 0, 1]), array([0, 0, 0, 1]), array([0, 0, 0, 1]), array([1, 0, 0, 0]), array([0, 1, 0, 0]), array([1, 0, 0, 0]), array([0, 1, 0, 0]), array([0, 0, 0, 1]), array([1, 0, 0, 0]), array([1, 0, 0, 0]), array([0, 0, 1, 0]), array([0, 1, 0, 0]), array([0, 0, 1, 0]), array([0, 0, 0, 1]), array([0, 1, 0, 0]), array([1, 0, 0, 0]), array([0, 0, 0, 1]), array([0, 1, 0, 0]), array([1, 0, 0, 0]), array([0, 0, 0, 1]), array([1, 0, 0, 0]), array([1, 0, 0, 0]), array([1, 0, 0, 0]), array([0, 0, 0, 1]), array([0, 0, 1, 0]), array([1, 0, 0, 0]), array([1, 0, 0, 0]), array([0, 0, 0, 1]), array([0, 0, 1, 0]), array([0, 0, 1, 0]), array([1, 0, 0, 0]), array([1, 0, 0, 0]), array([1, 0, 0, 0]), array([0, 0, 0, 1]), array([0, 0, 1, 0]), array([0, 0, 0, 1]), array([1, 0, 0, 0]), array([1, 0, 0, 0]), array([0, 0, 0, 1]), array([0, 0, 1, 0]), array([0, 0, 1, 0]), array([1, 0, 0, 0]), array([0, 0, 1, 0]), array([1, 0, 0, 0]), array([0, 1, 0, 0]), array([1, 0, 0, 0]), array([0, 0, 0, 1]), array([0, 0, 1, 0]), array([0, 0, 0, 1]), array([1, 0, 0, 0]), array([1, 0, 0, 0]), array([0, 0, 1, 0]), array([1, 0, 0, 0]), array([1, 0, 0, 0]), array([0, 0, 0, 1]), array([0, 0, 1, 0]), array([0, 1, 0, 0]), array([0, 0, 0, 1]), array([0, 0, 1, 0]), array([0, 1, 0, 0]), array([0, 0, 1, 0]), array([1, 0, 0, 0]), array([0, 1, 0, 0]), array([1, 0, 0, 0]), array([0, 0, 1, 0]), array([0, 1, 0, 0]), array([0, 0, 0, 1]), array([0, 1, 0, 0]), array([0, 1, 0, 0]), array([0, 0, 0, 1]), array([1, 0, 0, 0]), array([0, 0, 1, 0]), array([0, 0, 1, 0]), array([1, 0, 0, 0]), array([1, 0, 0, 0]), array([0, 1, 0, 0]), array([0, 0, 0, 1]), array([1, 0, 0, 0]), array([1, 0, 0, 0]), array([1, 0, 0, 0]), array([0, 0, 0, 1])]}), 'snapshot_step': 1000, 'show_metric': True, 'run_id': 'Classified_Medicine-0.001-6conv.model'}",
     "output_type": "error",
     "traceback": [
      "\u001b[0;31m---------------------------------------------------------------------------\u001b[0m",
      "\u001b[0;31mTypeError\u001b[0m                                 Traceback (most recent call last)",
      "\u001b[0;32m<ipython-input-17-67987c5bfe31>\u001b[0m in \u001b[0;36m<module>\u001b[0;34m\u001b[0m\n\u001b[1;32m      1\u001b[0m model_1.fit({'input': X}, {'targets': Y}, n_epoch=10,\n\u001b[1;32m      2\u001b[0m           \u001b[0mvalidation_set\u001b[0m\u001b[0;34m=\u001b[0m\u001b[0;34m(\u001b[0m\u001b[0;34m{\u001b[0m\u001b[0;34m'input'\u001b[0m\u001b[0;34m:\u001b[0m \u001b[0mtest_x\u001b[0m\u001b[0;34m}\u001b[0m\u001b[0;34m,\u001b[0m \u001b[0;34m{\u001b[0m\u001b[0;34m'targets'\u001b[0m\u001b[0;34m:\u001b[0m \u001b[0mtest_y\u001b[0m\u001b[0;34m}\u001b[0m\u001b[0;34m)\u001b[0m\u001b[0;34m,\u001b[0m\u001b[0;34m\u001b[0m\u001b[0m\n\u001b[0;32m----> 3\u001b[0;31m           snapshot_step=1000, show_metric=True, run_id=MODEL_NAME)\n\u001b[0m\u001b[1;32m      4\u001b[0m \u001b[0;34m\u001b[0m\u001b[0m\n",
      "\u001b[0;32m/Library/Frameworks/Python.framework/Versions/3.6/lib/python3.6/site-packages/keras/engine/training.py\u001b[0m in \u001b[0;36mfit\u001b[0;34m(self, x, y, batch_size, epochs, verbose, callbacks, validation_split, validation_data, shuffle, class_weight, sample_weight, initial_epoch, steps_per_epoch, validation_steps, **kwargs)\u001b[0m\n\u001b[1;32m    940\u001b[0m             \u001b[0mepochs\u001b[0m \u001b[0;34m=\u001b[0m \u001b[0mkwargs\u001b[0m\u001b[0;34m.\u001b[0m\u001b[0mpop\u001b[0m\u001b[0;34m(\u001b[0m\u001b[0;34m'nb_epoch'\u001b[0m\u001b[0;34m)\u001b[0m\u001b[0;34m\u001b[0m\u001b[0m\n\u001b[1;32m    941\u001b[0m         \u001b[0;32mif\u001b[0m \u001b[0mkwargs\u001b[0m\u001b[0;34m:\u001b[0m\u001b[0;34m\u001b[0m\u001b[0m\n\u001b[0;32m--> 942\u001b[0;31m             \u001b[0;32mraise\u001b[0m \u001b[0mTypeError\u001b[0m\u001b[0;34m(\u001b[0m\u001b[0;34m'Unrecognized keyword arguments: '\u001b[0m \u001b[0;34m+\u001b[0m \u001b[0mstr\u001b[0m\u001b[0;34m(\u001b[0m\u001b[0mkwargs\u001b[0m\u001b[0;34m)\u001b[0m\u001b[0;34m)\u001b[0m\u001b[0;34m\u001b[0m\u001b[0m\n\u001b[0m\u001b[1;32m    943\u001b[0m         \u001b[0;32mif\u001b[0m \u001b[0mx\u001b[0m \u001b[0;32mis\u001b[0m \u001b[0;32mNone\u001b[0m \u001b[0;32mand\u001b[0m \u001b[0my\u001b[0m \u001b[0;32mis\u001b[0m \u001b[0;32mNone\u001b[0m \u001b[0;32mand\u001b[0m \u001b[0msteps_per_epoch\u001b[0m \u001b[0;32mis\u001b[0m \u001b[0;32mNone\u001b[0m\u001b[0;34m:\u001b[0m\u001b[0;34m\u001b[0m\u001b[0m\n\u001b[1;32m    944\u001b[0m             raise ValueError('If fitting from data tensors, '\n",
      "\u001b[0;31mTypeError\u001b[0m: Unrecognized keyword arguments: {'n_epoch': 10, 'validation_set': ({'input': array([[[[ 23],\n         [ 28],\n         [ 28],\n         ...,\n         [ 23],\n         [ 22],\n         [ 21]],\n\n        [[ 18],\n         [ 25],\n         [ 28],\n         ...,\n         [ 15],\n         [ 21],\n         [ 19]],\n\n        [[ 26],\n         [ 24],\n         [ 23],\n         ...,\n         [ 21],\n         [ 16],\n         [ 25]],\n\n        ...,\n\n        [[ 39],\n         [ 37],\n         [ 38],\n         ...,\n         [ 26],\n         [ 35],\n         [ 34]],\n\n        [[ 13],\n         [ 19],\n         [ 22],\n         ...,\n         [  8],\n         [ 13],\n         [  7]],\n\n        [[ 23],\n         [ 26],\n         [ 26],\n         ...,\n         [ 26],\n         [ 27],\n         [ 26]]],\n\n\n       [[[ 21],\n         [ 12],\n         [ 18],\n         ...,\n         [ 13],\n         [ 18],\n         [ 14]],\n\n        [[ 24],\n         [ 21],\n         [ 24],\n         ...,\n         [ 11],\n         [ 20],\n         [ 19]],\n\n        [[ 21],\n         [ 28],\n         [ 19],\n         ...,\n         [  4],\n         [  4],\n         [ 23]],\n\n        ...,\n\n        [[ 10],\n         [ 43],\n         [ 35],\n         ...,\n         [ 17],\n         [ 26],\n         [ 28]],\n\n        [[ 21],\n         [ 28],\n         [ 26],\n         ...,\n         [ 22],\n         [ 13],\n         [ 13]],\n\n        [[ 20],\n         [ 55],\n         [  7],\n         ...,\n         [ 10],\n         [ 10],\n         [ 22]]],\n\n\n       [[[ 76],\n         [ 43],\n         [ 85],\n         ...,\n         [ 26],\n         [ 32],\n         [ 19]],\n\n        [[ 66],\n         [ 49],\n         [ 72],\n         ...,\n         [ 32],\n         [ 31],\n         [ 15]],\n\n        [[ 89],\n         [ 60],\n         [ 65],\n         ...,\n         [ 23],\n         [ 30],\n         [ 21]],\n\n        ...,\n\n        [[ 38],\n         [102],\n         [ 69],\n         ...,\n         [ 26],\n         [ 15],\n         [ 27]],\n\n        [[ 33],\n         [ 45],\n         [ 51],\n         ...,\n         [ 21],\n         [ 18],\n         [ 26]],\n\n        [[ 54],\n         [ 26],\n         [ 39],\n         ...,\n         [ 33],\n         [ 29],\n         [ 15]]],\n\n\n       ...,\n\n\n       [[[ 22],\n         [  9],\n         [ 16],\n         ...,\n         [  7],\n         [ 10],\n         [  5]],\n\n        [[ 17],\n         [ 18],\n         [ 20],\n         ...,\n         [  6],\n         [ 13],\n         [  7]],\n\n        [[ 14],\n         [ 20],\n         [ 14],\n         ...,\n         [  5],\n         [  2],\n         [ 12]],\n\n        ...,\n\n        [[  9],\n         [ 39],\n         [ 27],\n         ...,\n         [ 16],\n         [ 15],\n         [ 20]],\n\n        [[ 19],\n         [ 24],\n         [ 18],\n         ...,\n         [ 19],\n         [ 11],\n         [ 12]],\n\n        [[ 10],\n         [ 41],\n         [ 13],\n         ...,\n         [  8],\n         [  7],\n         [ 17]]],\n\n\n       [[[ 17],\n         [ 30],\n         [ 20],\n         ...,\n         [ 26],\n         [ 22],\n         [ 19]],\n\n        [[ 13],\n         [ 13],\n         [ 14],\n         ...,\n         [ 10],\n         [ 23],\n         [ 17]],\n\n        [[ 21],\n         [ 22],\n         [ 23],\n         ...,\n         [ 15],\n         [ 17],\n         [ 24]],\n\n        ...,\n\n        [[ 34],\n         [ 40],\n         [ 27],\n         ...,\n         [ 24],\n         [ 38],\n         [ 35]],\n\n        [[  5],\n         [ 13],\n         [ 18],\n         ...,\n         [  9],\n         [  6],\n         [  3]],\n\n        [[ 19],\n         [ 23],\n         [ 28],\n         ...,\n         [ 20],\n         [ 20],\n         [ 20]]],\n\n\n       [[[ 15],\n         [ 10],\n         [ 12],\n         ...,\n         [ 20],\n         [ 15],\n         [ 13]],\n\n        [[ 26],\n         [ 24],\n         [ 30],\n         ...,\n         [ 17],\n         [ 24],\n         [ 14]],\n\n        [[ 48],\n         [ 49],\n         [ 40],\n         ...,\n         [ 10],\n         [ 28],\n         [ 22]],\n\n        ...,\n\n        [[ 56],\n         [ 51],\n         [ 37],\n         ...,\n         [ 27],\n         [ 22],\n         [ 12]],\n\n        [[ 39],\n         [ 30],\n         [ 45],\n         ...,\n         [ 17],\n         [ 14],\n         [ 18]],\n\n        [[ 57],\n         [ 33],\n         [ 31],\n         ...,\n         [ 24],\n         [ 15],\n         [ 18]]]], dtype=uint8)}, {'targets': [array([0, 1, 0, 0]), array([0, 1, 0, 0]), array([0, 0, 1, 0]), array([0, 0, 0, 1]), array([0, 0, 1, 0]), array([1, 0, 0, 0]), array([0, 0, 0, 1]), array([0, 1, 0, 0]), array([0, 1, 0, 0]), array([0, 1, 0, 0]), array([0, 0, 0, 1]), array([0, 0, 1, 0]), array([0, 0, 1, 0]), array([1, 0, 0, 0]), array([0, 1, 0, 0]), array([0, 0, 0, 1]), array([1, 0, 0, 0]), array([0, 0, 0, 1]), array([0, 1, 0, 0]), array([0, 0, 1, 0]), array([0, 0, 0, 1]), array([0, 1, 0, 0]), array([1, 0, 0, 0]), array([0, 0, 1, 0]), array([0, 0, 1, 0]), array([0, 1, 0, 0]), array([0, 1, 0, 0]), array([0, 1, 0, 0]), array([0, 0, 0, 1]), array([0, 1, 0, 0]), array([1, 0, 0, 0]), array([0, 0, 0, 1]), array([0, 0, 0, 1]), array([0, 0, 0, 1]), array([0, 0, 1, 0]), array([0, 0, 1, 0]), array([0, 1, 0, 0]), array([0, 0, 1, 0]), array([0, 1, 0, 0]), array([0, 0, 0, 1]), array([0, 1, 0, 0]), array([0, 1, 0, 0]), array([0, 0, 0, 1]), array([0, 0, 1, 0]), array([0, 0, 1, 0]), array([0, 1, 0, 0]), array([1, 0, 0, 0]), array([1, 0, 0, 0]), array([1, 0, 0, 0]), array([0, 0, 1, 0]), array([0, 1, 0, 0]), array([1, 0, 0, 0]), array([0, 0, 1, 0]), array([0, 1, 0, 0]), array([0, 0, 1, 0]), array([0, 0, 1, 0]), array([0, 0, 0, 1]), array([0, 0, 1, 0]), array([0, 1, 0, 0]), array([0, 0, 1, 0]), array([0, 0, 1, 0]), array([0, 0, 1, 0]), array([0, 0, 1, 0]), array([0, 1, 0, 0]), array([0, 1, 0, 0]), array([0, 0, 1, 0]), array([0, 1, 0, 0]), array([0, 0, 1, 0]), array([0, 0, 1, 0]), array([0, 0, 1, 0]), array([1, 0, 0, 0]), array([0, 0, 0, 1]), array([1, 0, 0, 0]), array([0, 0, 0, 1]), array([0, 1, 0, 0]), array([0, 1, 0, 0]), array([0, 0, 1, 0]), array([0, 1, 0, 0]), array([0, 1, 0, 0]), array([0, 0, 1, 0]), array([1, 0, 0, 0]), array([0, 0, 1, 0]), array([0, 0, 1, 0]), array([0, 0, 1, 0]), array([0, 1, 0, 0]), array([0, 0, 1, 0]), array([0, 0, 0, 1]), array([0, 0, 0, 1]), array([1, 0, 0, 0]), array([0, 0, 1, 0]), array([1, 0, 0, 0]), array([0, 0, 0, 1]), array([0, 0, 0, 1]), array([0, 1, 0, 0]), array([0, 1, 0, 0]), array([0, 1, 0, 0]), array([0, 1, 0, 0]), array([0, 0, 0, 1]), array([1, 0, 0, 0]), array([0, 1, 0, 0]), array([0, 1, 0, 0]), array([0, 1, 0, 0]), array([1, 0, 0, 0]), array([0, 0, 1, 0]), array([0, 1, 0, 0]), array([0, 1, 0, 0]), array([0, 1, 0, 0]), array([0, 0, 0, 1]), array([0, 1, 0, 0]), array([0, 1, 0, 0]), array([0, 0, 1, 0]), array([0, 0, 1, 0]), array([0, 0, 1, 0]), array([1, 0, 0, 0]), array([0, 0, 0, 1]), array([0, 0, 1, 0]), array([0, 0, 0, 1]), array([1, 0, 0, 0]), array([1, 0, 0, 0]), array([0, 0, 0, 1]), array([0, 0, 0, 1]), array([0, 0, 0, 1]), array([1, 0, 0, 0]), array([0, 1, 0, 0]), array([1, 0, 0, 0]), array([0, 1, 0, 0]), array([0, 0, 0, 1]), array([1, 0, 0, 0]), array([1, 0, 0, 0]), array([0, 0, 1, 0]), array([0, 1, 0, 0]), array([0, 0, 1, 0]), array([0, 0, 0, 1]), array([0, 1, 0, 0]), array([1, 0, 0, 0]), array([0, 0, 0, 1]), array([0, 1, 0, 0]), array([1, 0, 0, 0]), array([0, 0, 0, 1]), array([1, 0, 0, 0]), array([1, 0, 0, 0]), array([1, 0, 0, 0]), array([0, 0, 0, 1]), array([0, 0, 1, 0]), array([1, 0, 0, 0]), array([1, 0, 0, 0]), array([0, 0, 0, 1]), array([0, 0, 1, 0]), array([0, 0, 1, 0]), array([1, 0, 0, 0]), array([1, 0, 0, 0]), array([1, 0, 0, 0]), array([0, 0, 0, 1]), array([0, 0, 1, 0]), array([0, 0, 0, 1]), array([1, 0, 0, 0]), array([1, 0, 0, 0]), array([0, 0, 0, 1]), array([0, 0, 1, 0]), array([0, 0, 1, 0]), array([1, 0, 0, 0]), array([0, 0, 1, 0]), array([1, 0, 0, 0]), array([0, 1, 0, 0]), array([1, 0, 0, 0]), array([0, 0, 0, 1]), array([0, 0, 1, 0]), array([0, 0, 0, 1]), array([1, 0, 0, 0]), array([1, 0, 0, 0]), array([0, 0, 1, 0]), array([1, 0, 0, 0]), array([1, 0, 0, 0]), array([0, 0, 0, 1]), array([0, 0, 1, 0]), array([0, 1, 0, 0]), array([0, 0, 0, 1]), array([0, 0, 1, 0]), array([0, 1, 0, 0]), array([0, 0, 1, 0]), array([1, 0, 0, 0]), array([0, 1, 0, 0]), array([1, 0, 0, 0]), array([0, 0, 1, 0]), array([0, 1, 0, 0]), array([0, 0, 0, 1]), array([0, 1, 0, 0]), array([0, 1, 0, 0]), array([0, 0, 0, 1]), array([1, 0, 0, 0]), array([0, 0, 1, 0]), array([0, 0, 1, 0]), array([1, 0, 0, 0]), array([1, 0, 0, 0]), array([0, 1, 0, 0]), array([0, 0, 0, 1]), array([1, 0, 0, 0]), array([1, 0, 0, 0]), array([1, 0, 0, 0]), array([0, 0, 0, 1])]}), 'snapshot_step': 1000, 'show_metric': True, 'run_id': 'Classified_Medicine-0.001-6conv.model'}"
     ]
    }
   ],
   "source": [
    "model_1.fit({'input': X}, {'targets': Y}, n_epoch=10,\n",
    "          validation_set=({'input': test_x}, {'targets': test_y}),\n",
    "          snapshot_step=1000, show_metric=True, run_id=MODEL_NAME)\n",
    "\n"
   ]
  },
  {
   "cell_type": "code",
   "execution_count": null,
   "metadata": {},
   "outputs": [],
   "source": []
  }
 ],
 "metadata": {
  "kernelspec": {
   "display_name": "Python 3",
   "language": "python",
   "name": "python3"
  },
  "language_info": {
   "codemirror_mode": {
    "name": "ipython",
    "version": 3
   },
   "file_extension": ".py",
   "mimetype": "text/x-python",
   "name": "python",
   "nbconvert_exporter": "python",
   "pygments_lexer": "ipython3",
   "version": "3.6.6"
  }
 },
 "nbformat": 4,
 "nbformat_minor": 2
}
